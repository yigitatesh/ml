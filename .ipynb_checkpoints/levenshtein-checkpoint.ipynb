{
 "cells": [
  {
   "cell_type": "code",
   "execution_count": 1,
   "metadata": {},
   "outputs": [],
   "source": [
    "import numpy as np\n",
    "import pandas as pd\n",
    "import re"
   ]
  },
  {
   "cell_type": "code",
   "execution_count": 2,
   "metadata": {},
   "outputs": [],
   "source": [
    "class Levenshtein:\n",
    "    \"\"\"Calculate levenshtein distance of words\"\"\"\n",
    "    def __init__(self):\n",
    "        # key locations\n",
    "        self.key_locs = {'q': (0, 0), 'w': (1, 0), 'e': (2, 0), 'r': (3, 0),\n",
    "                         't': (4, 0), 'y': (5, 0), 'u': (6, 0), 'i': (7, 0),\n",
    "                         'o': (8, 0), 'p': (9, 0), 'a': (0, 1), 'z': (0, 2),\n",
    "                         's': (1, 1), 'x': (1, 2), 'd': (2, 1), 'c': (2, 2),\n",
    "                         'f': (3, 1), 'b': (4, 2), 'm': (5, 2), 'j': (6, 1),\n",
    "                         'g': (4, 1), 'h': (5, 1), 'k': (7, 1), 'l': (8, 1),\n",
    "                         'v': (3, 2), 'n': (5, 2)}\n",
    "        # keys\n",
    "        self.keys = list(self.key_locs.keys())\n",
    "        # manhattan and euclidean key distances matrix\n",
    "        self.manhattan_dist_matrix = np.zeros((len(self.keys), len(self.keys)))\n",
    "        self.euclidean_dist_matrix = np.zeros((len(self.keys), len(self.keys)))\n",
    "        # loop for calculating distances of keys\n",
    "        for i in range(len(self.keys)):\n",
    "            for j in range(len(self.keys)):\n",
    "                dist_x = abs(self.key_locs[self.keys[i]][0] - self.key_locs[self.keys[j]][0])\n",
    "                dist_y = abs(self.key_locs[self.keys[i]][1] - self.key_locs[self.keys[j]][1])\n",
    "                # manhattan\n",
    "                self.manhattan_dist_matrix[i, j] = dist_x + dist_y\n",
    "                # euclidean\n",
    "                self.euclidean_dist_matrix[i, j] = (dist_x ** 2 + dist_y ** 2) ** .5\n",
    "        # max distances\n",
    "        self.max_manhattan = np.max(self.manhattan_dist_matrix)\n",
    "        self.max_euclidean = np.max(self.euclidean_dist_matrix)\n",
    "        # weight coefficients\n",
    "        # scale coef scales edit sizes to between 0 and scale coef\n",
    "        self.scale_coef = 2\n",
    "        self.manhattan_coef = self.scale_coef / self.max_manhattan\n",
    "        self.euclidean_coef = self.scale_coef / self.max_euclidean\n",
    "    \n",
    "    def key_distance(self, x, y, type=\"manhattan\"):\n",
    "        \"\"\"Return distance of two keys in qwerty keyboard\n",
    "        based on manhattan or euclidean distance.\"\"\"\n",
    "        if type == \"manhattan\":\n",
    "            return self.manhattan_dist_matrix[self.keys.index(x), self.keys.index(y)]\n",
    "        elif type == \"euclidean\":\n",
    "            return self.euclidean_dist_matrix[self.keys.index(x), self.keys.index(y)]\n",
    "    \n",
    "    def distance_matrix(self, x, y, keyboard_weight=None):\n",
    "        \"\"\"Calculate matrix of number of edits to convert \n",
    "        every subset of y to every subset of x\"\"\"\n",
    "        # create distance matrix\n",
    "        size_x = len(x) + 1\n",
    "        size_y = len(y) + 1\n",
    "        dist_matrix = np.zeros((size_x, size_y))\n",
    "        for i in range(size_x):\n",
    "            dist_matrix[i, 0] = i\n",
    "        for j in range(size_y):\n",
    "            dist_matrix[0, j] = j\n",
    "\n",
    "        ## fill distance matrix\n",
    "        # no keyboard weight\n",
    "        if not keyboard_weight:\n",
    "            for i in range(1, size_x):\n",
    "                for j in range(1, size_y):\n",
    "                    # if letters are same\n",
    "                    if x[i-1] == y[j-1]:\n",
    "                        dist_matrix[i, j] = dist_matrix[i-1, j-1]\n",
    "                    # if letters are different\n",
    "                    else:\n",
    "                        subs = dist_matrix[i-1, j-1] + 1\n",
    "                        delete = dist_matrix[i-1, j] + 1\n",
    "                        insert = dist_matrix[i, j-1] + 1 \n",
    "                        dist_matrix[i, j] = min(subs, delete, insert)\n",
    "        # manhattan keyboard weight\n",
    "        elif keyboard_weight == \"manhattan\":\n",
    "            for i in range(1, size_x):\n",
    "                for j in range(1, size_y):\n",
    "                    # if letters are same\n",
    "                    if x[i-1] == y[j-1]:\n",
    "                        dist_matrix[i, j] = dist_matrix[i-1, j-1]\n",
    "                    # if letters are different\n",
    "                    else:\n",
    "                        dist = self.key_distance(x[i-1], y[j-1], keyboard_weight)\n",
    "                        subs_weight = dist * self.manhattan_coef\n",
    "                        subs = dist_matrix[i-1, j-1] + subs_weight\n",
    "                        delete = dist_matrix[i-1, j] + 1\n",
    "                        insert = dist_matrix[i, j-1] + 1 \n",
    "                        dist_matrix[i, j] = min(subs, delete, insert)\n",
    "        # euclidean keyboard weight\n",
    "        elif keyboard_weight == \"euclidean\":\n",
    "            for i in range(1, size_x):\n",
    "                for j in range(1, size_y):\n",
    "                    # if letters are same\n",
    "                    if x[i-1] == y[j-1]:\n",
    "                        dist_matrix[i, j] = dist_matrix[i-1, j-1]\n",
    "                    # if letters are different\n",
    "                    else:\n",
    "                        dist = self.key_distance(x[i-1], y[j-1], keyboard_weight)\n",
    "                        subs_weight = dist * self.euclidean_coef\n",
    "                        subs = dist_matrix[i-1, j-1] + subs_weight\n",
    "                        delete = dist_matrix[i-1, j] + 1\n",
    "                        insert = dist_matrix[i, j-1] + 1 \n",
    "                        dist_matrix[i, j] = min(subs, delete, insert)\n",
    "        \n",
    "        return dist_matrix\n",
    "    \n",
    "    def distance(self, x, y, keyboard_weight=None):\n",
    "        \"\"\"Calculate number of edits to convert y to x\"\"\"\n",
    "        dist_matrix = self.distance_matrix(x, y, keyboard_weight)\n",
    "        return dist_matrix[-1, -1]\n",
    "    \n",
    "    def distance_dataframe(self, x, y, keyboard_weight=None):\n",
    "        \"\"\"Return a dataframe of distance matrix of x and y\n",
    "        indexes is letters of x and columns are letters of y\"\"\"\n",
    "        dist_matrix = self.distance_matrix(x, y, keyboard_weight)\n",
    "        dist_df = pd.DataFrame(dist_matrix, index=[\"\", *list(x)], \n",
    "                               columns=[\"\", *list(y)])\n",
    "        return dist_df\n",
    "        \n",
    "    def similarity(self, x, y, keyboard_weight=None):\n",
    "        \"\"\"Calculate similarity of two words\n",
    "        Return a number between 0 and 1\n",
    "        (1 means same and 0 means fully different)\"\"\"\n",
    "        dist = self.distance(x, y, keyboard_weight)\n",
    "        max_len = max(len(x), len(y))\n",
    "        max_dissimilarity = max_len * self.scale_coef\n",
    "        similarity = 1 - dist / max_dissimilarity\n",
    "        return similarity"
   ]
  },
  {
   "cell_type": "code",
   "execution_count": 4,
   "metadata": {},
   "outputs": [
    {
     "data": {
      "text/plain": [
       "0.9696969696969697"
      ]
     },
     "execution_count": 4,
     "metadata": {},
     "output_type": "execute_result"
    }
   ],
   "source": [
    "LD = Levenshtein()\n",
    "LD.similarity(\"sar\", \"sat\", \"manhattan\")"
   ]
  },
  {
   "cell_type": "code",
   "execution_count": 5,
   "metadata": {},
   "outputs": [
    {
     "data": {
      "text/plain": [
       "array([[0., 1., 2., 3., 4., 5.],\n",
       "       [1., 0., 1., 2., 3., 4.],\n",
       "       [2., 1., 0., 1., 2., 3.],\n",
       "       [3., 2., 1., 0., 1., 2.],\n",
       "       [4., 3., 2., 1., 0., 1.],\n",
       "       [5., 4., 3., 2., 1., 1.]])"
      ]
     },
     "execution_count": 5,
     "metadata": {},
     "output_type": "execute_result"
    }
   ],
   "source": [
    "LD.distance_matrix(\"yatak\", \"yatal\")"
   ]
  },
  {
   "cell_type": "code",
   "execution_count": 5,
   "metadata": {
    "scrolled": true
   },
   "outputs": [
    {
     "data": {
      "text/html": [
       "<div>\n",
       "<style scoped>\n",
       "    .dataframe tbody tr th:only-of-type {\n",
       "        vertical-align: middle;\n",
       "    }\n",
       "\n",
       "    .dataframe tbody tr th {\n",
       "        vertical-align: top;\n",
       "    }\n",
       "\n",
       "    .dataframe thead th {\n",
       "        text-align: right;\n",
       "    }\n",
       "</style>\n",
       "<table border=\"1\" class=\"dataframe\">\n",
       "  <thead>\n",
       "    <tr style=\"text-align: right;\">\n",
       "      <th></th>\n",
       "      <th></th>\n",
       "      <th>p</th>\n",
       "      <th>e</th>\n",
       "      <th>t</th>\n",
       "      <th>r</th>\n",
       "      <th>i</th>\n",
       "      <th>c</th>\n",
       "    </tr>\n",
       "  </thead>\n",
       "  <tbody>\n",
       "    <tr>\n",
       "      <th></th>\n",
       "      <td>0.0</td>\n",
       "      <td>1.000000</td>\n",
       "      <td>2.000000</td>\n",
       "      <td>3.000000</td>\n",
       "      <td>4.000000</td>\n",
       "      <td>5.000000</td>\n",
       "      <td>6.000000</td>\n",
       "    </tr>\n",
       "    <tr>\n",
       "      <th>z</th>\n",
       "      <td>1.0</td>\n",
       "      <td>2.000000</td>\n",
       "      <td>1.727273</td>\n",
       "      <td>2.727273</td>\n",
       "      <td>3.727273</td>\n",
       "      <td>4.727273</td>\n",
       "      <td>5.363636</td>\n",
       "    </tr>\n",
       "    <tr>\n",
       "      <th>e</th>\n",
       "      <td>2.0</td>\n",
       "      <td>2.272727</td>\n",
       "      <td>2.000000</td>\n",
       "      <td>2.090909</td>\n",
       "      <td>2.909091</td>\n",
       "      <td>3.909091</td>\n",
       "      <td>4.909091</td>\n",
       "    </tr>\n",
       "    <tr>\n",
       "      <th>r</th>\n",
       "      <td>3.0</td>\n",
       "      <td>3.090909</td>\n",
       "      <td>2.454545</td>\n",
       "      <td>2.181818</td>\n",
       "      <td>2.090909</td>\n",
       "      <td>3.090909</td>\n",
       "      <td>4.090909</td>\n",
       "    </tr>\n",
       "    <tr>\n",
       "      <th>o</th>\n",
       "      <td>4.0</td>\n",
       "      <td>3.181818</td>\n",
       "      <td>3.454545</td>\n",
       "      <td>3.181818</td>\n",
       "      <td>3.090909</td>\n",
       "      <td>2.272727</td>\n",
       "      <td>3.272727</td>\n",
       "    </tr>\n",
       "  </tbody>\n",
       "</table>\n",
       "</div>"
      ],
      "text/plain": [
       "               p         e         t         r         i         c\n",
       "   0.0  1.000000  2.000000  3.000000  4.000000  5.000000  6.000000\n",
       "z  1.0  2.000000  1.727273  2.727273  3.727273  4.727273  5.363636\n",
       "e  2.0  2.272727  2.000000  2.090909  2.909091  3.909091  4.909091\n",
       "r  3.0  3.090909  2.454545  2.181818  2.090909  3.090909  4.090909\n",
       "o  4.0  3.181818  3.454545  3.181818  3.090909  2.272727  3.272727"
      ]
     },
     "execution_count": 5,
     "metadata": {},
     "output_type": "execute_result"
    }
   ],
   "source": [
    "LD.distance_dataframe(\"zero\", \"petric\", \"manhattan\")"
   ]
  },
  {
   "cell_type": "code",
   "execution_count": 6,
   "metadata": {},
   "outputs": [
    {
     "data": {
      "text/html": [
       "<div>\n",
       "<style scoped>\n",
       "    .dataframe tbody tr th:only-of-type {\n",
       "        vertical-align: middle;\n",
       "    }\n",
       "\n",
       "    .dataframe tbody tr th {\n",
       "        vertical-align: top;\n",
       "    }\n",
       "\n",
       "    .dataframe thead th {\n",
       "        text-align: right;\n",
       "    }\n",
       "</style>\n",
       "<table border=\"1\" class=\"dataframe\">\n",
       "  <thead>\n",
       "    <tr style=\"text-align: right;\">\n",
       "      <th></th>\n",
       "      <th></th>\n",
       "      <th>y</th>\n",
       "      <th>i</th>\n",
       "      <th>g</th>\n",
       "      <th>i</th>\n",
       "      <th>t</th>\n",
       "    </tr>\n",
       "  </thead>\n",
       "  <tbody>\n",
       "    <tr>\n",
       "      <th></th>\n",
       "      <td>0.0</td>\n",
       "      <td>1.00000</td>\n",
       "      <td>2.000000</td>\n",
       "      <td>3.000000</td>\n",
       "      <td>4.000000</td>\n",
       "      <td>5.000000</td>\n",
       "    </tr>\n",
       "    <tr>\n",
       "      <th>h</th>\n",
       "      <td>1.0</td>\n",
       "      <td>0.21693</td>\n",
       "      <td>1.216930</td>\n",
       "      <td>2.216930</td>\n",
       "      <td>3.216930</td>\n",
       "      <td>4.216930</td>\n",
       "    </tr>\n",
       "    <tr>\n",
       "      <th>e</th>\n",
       "      <td>2.0</td>\n",
       "      <td>1.21693</td>\n",
       "      <td>1.301583</td>\n",
       "      <td>1.702002</td>\n",
       "      <td>2.702002</td>\n",
       "      <td>3.650791</td>\n",
       "    </tr>\n",
       "    <tr>\n",
       "      <th>l</th>\n",
       "      <td>3.0</td>\n",
       "      <td>2.21693</td>\n",
       "      <td>1.523716</td>\n",
       "      <td>2.169305</td>\n",
       "      <td>2.008788</td>\n",
       "      <td>3.008788</td>\n",
       "    </tr>\n",
       "    <tr>\n",
       "      <th>i</th>\n",
       "      <td>4.0</td>\n",
       "      <td>3.21693</td>\n",
       "      <td>2.216930</td>\n",
       "      <td>2.209711</td>\n",
       "      <td>2.169305</td>\n",
       "      <td>2.659579</td>\n",
       "    </tr>\n",
       "    <tr>\n",
       "      <th>n</th>\n",
       "      <td>5.0</td>\n",
       "      <td>4.21693</td>\n",
       "      <td>3.216930</td>\n",
       "      <td>2.523716</td>\n",
       "      <td>2.823283</td>\n",
       "      <td>2.654376</td>\n",
       "    </tr>\n",
       "  </tbody>\n",
       "</table>\n",
       "</div>"
      ],
      "text/plain": [
       "              y         i         g         i         t\n",
       "   0.0  1.00000  2.000000  3.000000  4.000000  5.000000\n",
       "h  1.0  0.21693  1.216930  2.216930  3.216930  4.216930\n",
       "e  2.0  1.21693  1.301583  1.702002  2.702002  3.650791\n",
       "l  3.0  2.21693  1.523716  2.169305  2.008788  3.008788\n",
       "i  4.0  3.21693  2.216930  2.209711  2.169305  2.659579\n",
       "n  5.0  4.21693  3.216930  2.523716  2.823283  2.654376"
      ]
     },
     "execution_count": 6,
     "metadata": {},
     "output_type": "execute_result"
    }
   ],
   "source": [
    "LD.distance_dataframe(\"helin\", \"yigit\", \"euclidean\")"
   ]
  },
  {
   "cell_type": "code",
   "execution_count": 7,
   "metadata": {},
   "outputs": [
    {
     "data": {
      "text/plain": [
       "0.7636363636363637"
      ]
     },
     "execution_count": 7,
     "metadata": {},
     "output_type": "execute_result"
    }
   ],
   "source": [
    "LD.similarity(\"madem\", \"mat\", \"manhattan\")"
   ]
  },
  {
   "cell_type": "code",
   "execution_count": 7,
   "metadata": {},
   "outputs": [
    {
     "data": {
      "text/html": [
       "<div>\n",
       "<style scoped>\n",
       "    .dataframe tbody tr th:only-of-type {\n",
       "        vertical-align: middle;\n",
       "    }\n",
       "\n",
       "    .dataframe tbody tr th {\n",
       "        vertical-align: top;\n",
       "    }\n",
       "\n",
       "    .dataframe thead th {\n",
       "        text-align: right;\n",
       "    }\n",
       "</style>\n",
       "<table border=\"1\" class=\"dataframe\">\n",
       "  <thead>\n",
       "    <tr style=\"text-align: right;\">\n",
       "      <th></th>\n",
       "      <th></th>\n",
       "      <th>y</th>\n",
       "      <th>a</th>\n",
       "      <th>t</th>\n",
       "      <th>a</th>\n",
       "      <th>m</th>\n",
       "    </tr>\n",
       "  </thead>\n",
       "  <tbody>\n",
       "    <tr>\n",
       "      <th></th>\n",
       "      <td>0.0</td>\n",
       "      <td>1.0</td>\n",
       "      <td>2.0</td>\n",
       "      <td>3.0</td>\n",
       "      <td>4.0</td>\n",
       "      <td>5.000000</td>\n",
       "    </tr>\n",
       "    <tr>\n",
       "      <th>y</th>\n",
       "      <td>1.0</td>\n",
       "      <td>0.0</td>\n",
       "      <td>1.0</td>\n",
       "      <td>2.0</td>\n",
       "      <td>3.0</td>\n",
       "      <td>4.000000</td>\n",
       "    </tr>\n",
       "    <tr>\n",
       "      <th>a</th>\n",
       "      <td>2.0</td>\n",
       "      <td>1.0</td>\n",
       "      <td>0.0</td>\n",
       "      <td>1.0</td>\n",
       "      <td>2.0</td>\n",
       "      <td>3.000000</td>\n",
       "    </tr>\n",
       "    <tr>\n",
       "      <th>t</th>\n",
       "      <td>3.0</td>\n",
       "      <td>2.0</td>\n",
       "      <td>1.0</td>\n",
       "      <td>0.0</td>\n",
       "      <td>1.0</td>\n",
       "      <td>2.000000</td>\n",
       "    </tr>\n",
       "    <tr>\n",
       "      <th>a</th>\n",
       "      <td>4.0</td>\n",
       "      <td>3.0</td>\n",
       "      <td>2.0</td>\n",
       "      <td>1.0</td>\n",
       "      <td>0.0</td>\n",
       "      <td>1.000000</td>\n",
       "    </tr>\n",
       "    <tr>\n",
       "      <th>k</th>\n",
       "      <td>5.0</td>\n",
       "      <td>4.0</td>\n",
       "      <td>3.0</td>\n",
       "      <td>2.0</td>\n",
       "      <td>1.0</td>\n",
       "      <td>0.485071</td>\n",
       "    </tr>\n",
       "  </tbody>\n",
       "</table>\n",
       "</div>"
      ],
      "text/plain": [
       "          y    a    t    a         m\n",
       "   0.0  1.0  2.0  3.0  4.0  5.000000\n",
       "y  1.0  0.0  1.0  2.0  3.0  4.000000\n",
       "a  2.0  1.0  0.0  1.0  2.0  3.000000\n",
       "t  3.0  2.0  1.0  0.0  1.0  2.000000\n",
       "a  4.0  3.0  2.0  1.0  0.0  1.000000\n",
       "k  5.0  4.0  3.0  2.0  1.0  0.485071"
      ]
     },
     "execution_count": 7,
     "metadata": {},
     "output_type": "execute_result"
    }
   ],
   "source": [
    "LD.distance_dataframe(\"yatak\", \"yatam\", \"euclidean\")"
   ]
  },
  {
   "cell_type": "code",
   "execution_count": 29,
   "metadata": {},
   "outputs": [
    {
     "data": {
      "text/plain": [
       "0.9318181818181818"
      ]
     },
     "execution_count": 29,
     "metadata": {},
     "output_type": "execute_result"
    }
   ],
   "source": [
    "LD.similarity(\"refrigirator\", \"refrigeretir\", \"manhattan\")"
   ]
  },
  {
   "cell_type": "code",
   "execution_count": 19,
   "metadata": {},
   "outputs": [
    {
     "data": {
      "text/html": [
       "<div>\n",
       "<style scoped>\n",
       "    .dataframe tbody tr th:only-of-type {\n",
       "        vertical-align: middle;\n",
       "    }\n",
       "\n",
       "    .dataframe tbody tr th {\n",
       "        vertical-align: top;\n",
       "    }\n",
       "\n",
       "    .dataframe thead th {\n",
       "        text-align: right;\n",
       "    }\n",
       "</style>\n",
       "<table border=\"1\" class=\"dataframe\">\n",
       "  <thead>\n",
       "    <tr style=\"text-align: right;\">\n",
       "      <th></th>\n",
       "      <th></th>\n",
       "      <th>m</th>\n",
       "      <th>a</th>\n",
       "      <th>n</th>\n",
       "      <th>n</th>\n",
       "      <th>h</th>\n",
       "      <th>a</th>\n",
       "      <th>t</th>\n",
       "      <th>a</th>\n",
       "      <th>n</th>\n",
       "    </tr>\n",
       "  </thead>\n",
       "  <tbody>\n",
       "    <tr>\n",
       "      <th></th>\n",
       "      <td>0.0</td>\n",
       "      <td>1.0</td>\n",
       "      <td>2.0</td>\n",
       "      <td>3.0</td>\n",
       "      <td>4.000000</td>\n",
       "      <td>5.000000</td>\n",
       "      <td>6.000000</td>\n",
       "      <td>7.000000</td>\n",
       "      <td>8.000000</td>\n",
       "      <td>9.000000</td>\n",
       "    </tr>\n",
       "    <tr>\n",
       "      <th>m</th>\n",
       "      <td>1.0</td>\n",
       "      <td>0.0</td>\n",
       "      <td>1.0</td>\n",
       "      <td>2.0</td>\n",
       "      <td>3.000000</td>\n",
       "      <td>4.000000</td>\n",
       "      <td>5.000000</td>\n",
       "      <td>6.000000</td>\n",
       "      <td>7.000000</td>\n",
       "      <td>8.000000</td>\n",
       "    </tr>\n",
       "    <tr>\n",
       "      <th>a</th>\n",
       "      <td>2.0</td>\n",
       "      <td>1.0</td>\n",
       "      <td>0.0</td>\n",
       "      <td>1.0</td>\n",
       "      <td>2.000000</td>\n",
       "      <td>3.000000</td>\n",
       "      <td>4.000000</td>\n",
       "      <td>5.000000</td>\n",
       "      <td>6.000000</td>\n",
       "      <td>7.000000</td>\n",
       "    </tr>\n",
       "    <tr>\n",
       "      <th>n</th>\n",
       "      <td>3.0</td>\n",
       "      <td>2.0</td>\n",
       "      <td>1.0</td>\n",
       "      <td>0.0</td>\n",
       "      <td>1.000000</td>\n",
       "      <td>2.000000</td>\n",
       "      <td>3.000000</td>\n",
       "      <td>4.000000</td>\n",
       "      <td>5.000000</td>\n",
       "      <td>6.000000</td>\n",
       "    </tr>\n",
       "    <tr>\n",
       "      <th>h</th>\n",
       "      <td>4.0</td>\n",
       "      <td>3.0</td>\n",
       "      <td>2.0</td>\n",
       "      <td>1.0</td>\n",
       "      <td>0.181818</td>\n",
       "      <td>1.000000</td>\n",
       "      <td>2.000000</td>\n",
       "      <td>3.000000</td>\n",
       "      <td>4.000000</td>\n",
       "      <td>5.000000</td>\n",
       "    </tr>\n",
       "    <tr>\n",
       "      <th>a</th>\n",
       "      <td>5.0</td>\n",
       "      <td>4.0</td>\n",
       "      <td>3.0</td>\n",
       "      <td>2.0</td>\n",
       "      <td>1.181818</td>\n",
       "      <td>1.090909</td>\n",
       "      <td>1.000000</td>\n",
       "      <td>2.000000</td>\n",
       "      <td>3.000000</td>\n",
       "      <td>4.000000</td>\n",
       "    </tr>\n",
       "    <tr>\n",
       "      <th>t</th>\n",
       "      <td>6.0</td>\n",
       "      <td>5.0</td>\n",
       "      <td>4.0</td>\n",
       "      <td>3.0</td>\n",
       "      <td>2.181818</td>\n",
       "      <td>1.545455</td>\n",
       "      <td>2.000000</td>\n",
       "      <td>1.000000</td>\n",
       "      <td>2.000000</td>\n",
       "      <td>3.000000</td>\n",
       "    </tr>\n",
       "    <tr>\n",
       "      <th>t</th>\n",
       "      <td>7.0</td>\n",
       "      <td>6.0</td>\n",
       "      <td>5.0</td>\n",
       "      <td>4.0</td>\n",
       "      <td>3.181818</td>\n",
       "      <td>2.545455</td>\n",
       "      <td>2.454545</td>\n",
       "      <td>2.000000</td>\n",
       "      <td>1.909091</td>\n",
       "      <td>2.545455</td>\n",
       "    </tr>\n",
       "    <tr>\n",
       "      <th>a</th>\n",
       "      <td>8.0</td>\n",
       "      <td>7.0</td>\n",
       "      <td>6.0</td>\n",
       "      <td>5.0</td>\n",
       "      <td>4.181818</td>\n",
       "      <td>3.545455</td>\n",
       "      <td>2.545455</td>\n",
       "      <td>3.000000</td>\n",
       "      <td>2.000000</td>\n",
       "      <td>3.000000</td>\n",
       "    </tr>\n",
       "    <tr>\n",
       "      <th>n</th>\n",
       "      <td>9.0</td>\n",
       "      <td>8.0</td>\n",
       "      <td>7.0</td>\n",
       "      <td>6.0</td>\n",
       "      <td>5.000000</td>\n",
       "      <td>4.363636</td>\n",
       "      <td>3.545455</td>\n",
       "      <td>3.090909</td>\n",
       "      <td>3.000000</td>\n",
       "      <td>2.000000</td>\n",
       "    </tr>\n",
       "  </tbody>\n",
       "</table>\n",
       "</div>"
      ],
      "text/plain": [
       "          m    a    n         n         h         a         t         a  \\\n",
       "   0.0  1.0  2.0  3.0  4.000000  5.000000  6.000000  7.000000  8.000000   \n",
       "m  1.0  0.0  1.0  2.0  3.000000  4.000000  5.000000  6.000000  7.000000   \n",
       "a  2.0  1.0  0.0  1.0  2.000000  3.000000  4.000000  5.000000  6.000000   \n",
       "n  3.0  2.0  1.0  0.0  1.000000  2.000000  3.000000  4.000000  5.000000   \n",
       "h  4.0  3.0  2.0  1.0  0.181818  1.000000  2.000000  3.000000  4.000000   \n",
       "a  5.0  4.0  3.0  2.0  1.181818  1.090909  1.000000  2.000000  3.000000   \n",
       "t  6.0  5.0  4.0  3.0  2.181818  1.545455  2.000000  1.000000  2.000000   \n",
       "t  7.0  6.0  5.0  4.0  3.181818  2.545455  2.454545  2.000000  1.909091   \n",
       "a  8.0  7.0  6.0  5.0  4.181818  3.545455  2.545455  3.000000  2.000000   \n",
       "n  9.0  8.0  7.0  6.0  5.000000  4.363636  3.545455  3.090909  3.000000   \n",
       "\n",
       "          n  \n",
       "   9.000000  \n",
       "m  8.000000  \n",
       "a  7.000000  \n",
       "n  6.000000  \n",
       "h  5.000000  \n",
       "a  4.000000  \n",
       "t  3.000000  \n",
       "t  2.545455  \n",
       "a  3.000000  \n",
       "n  2.000000  "
      ]
     },
     "execution_count": 19,
     "metadata": {},
     "output_type": "execute_result"
    }
   ],
   "source": [
    "LD.distance_dataframe(\"manhattan\", \"mannhatan\", \"manhattan\")"
   ]
  },
  {
   "cell_type": "code",
   "execution_count": 9,
   "metadata": {},
   "outputs": [
    {
     "data": {
      "text/html": [
       "<div>\n",
       "<style scoped>\n",
       "    .dataframe tbody tr th:only-of-type {\n",
       "        vertical-align: middle;\n",
       "    }\n",
       "\n",
       "    .dataframe tbody tr th {\n",
       "        vertical-align: top;\n",
       "    }\n",
       "\n",
       "    .dataframe thead th {\n",
       "        text-align: right;\n",
       "    }\n",
       "</style>\n",
       "<table border=\"1\" class=\"dataframe\">\n",
       "  <thead>\n",
       "    <tr style=\"text-align: right;\">\n",
       "      <th></th>\n",
       "      <th></th>\n",
       "      <th>p</th>\n",
       "      <th>p</th>\n",
       "      <th>p</th>\n",
       "      <th>p</th>\n",
       "      <th>p</th>\n",
       "    </tr>\n",
       "  </thead>\n",
       "  <tbody>\n",
       "    <tr>\n",
       "      <th></th>\n",
       "      <td>0.0</td>\n",
       "      <td>1.000000</td>\n",
       "      <td>2.000000</td>\n",
       "      <td>3.000000</td>\n",
       "      <td>4.000000</td>\n",
       "      <td>5.000000</td>\n",
       "    </tr>\n",
       "    <tr>\n",
       "      <th>a</th>\n",
       "      <td>1.0</td>\n",
       "      <td>1.964389</td>\n",
       "      <td>2.964389</td>\n",
       "      <td>3.964389</td>\n",
       "      <td>4.964389</td>\n",
       "      <td>5.964389</td>\n",
       "    </tr>\n",
       "    <tr>\n",
       "      <th>a</th>\n",
       "      <td>2.0</td>\n",
       "      <td>2.964389</td>\n",
       "      <td>3.928778</td>\n",
       "      <td>4.928778</td>\n",
       "      <td>5.928778</td>\n",
       "      <td>6.928778</td>\n",
       "    </tr>\n",
       "    <tr>\n",
       "      <th>a</th>\n",
       "      <td>3.0</td>\n",
       "      <td>3.964389</td>\n",
       "      <td>4.928778</td>\n",
       "      <td>5.893167</td>\n",
       "      <td>6.893167</td>\n",
       "      <td>7.893167</td>\n",
       "    </tr>\n",
       "    <tr>\n",
       "      <th>a</th>\n",
       "      <td>4.0</td>\n",
       "      <td>4.964389</td>\n",
       "      <td>5.928778</td>\n",
       "      <td>6.893167</td>\n",
       "      <td>7.857555</td>\n",
       "      <td>8.857555</td>\n",
       "    </tr>\n",
       "    <tr>\n",
       "      <th>a</th>\n",
       "      <td>5.0</td>\n",
       "      <td>5.964389</td>\n",
       "      <td>6.928778</td>\n",
       "      <td>7.893167</td>\n",
       "      <td>8.857555</td>\n",
       "      <td>9.821944</td>\n",
       "    </tr>\n",
       "  </tbody>\n",
       "</table>\n",
       "</div>"
      ],
      "text/plain": [
       "               p         p         p         p         p\n",
       "   0.0  1.000000  2.000000  3.000000  4.000000  5.000000\n",
       "a  1.0  1.964389  2.964389  3.964389  4.964389  5.964389\n",
       "a  2.0  2.964389  3.928778  4.928778  5.928778  6.928778\n",
       "a  3.0  3.964389  4.928778  5.893167  6.893167  7.893167\n",
       "a  4.0  4.964389  5.928778  6.893167  7.857555  8.857555\n",
       "a  5.0  5.964389  6.928778  7.893167  8.857555  9.821944"
      ]
     },
     "execution_count": 9,
     "metadata": {},
     "output_type": "execute_result"
    }
   ],
   "source": [
    "LD.distance_dataframe(\"aaaaa\", \"ppppp\", \"euclidean\")"
   ]
  },
  {
   "cell_type": "code",
   "execution_count": 9,
   "metadata": {},
   "outputs": [
    {
     "name": "stdout",
     "output_type": "stream",
     "text": [
      "flower flower\n",
      "1.0\n",
      "\n",
      "flower floer\n",
      "0.9166666666666666\n",
      "\n",
      "flower floder\n",
      "0.9696969696969697\n",
      "\n",
      "flower man\n",
      "0.6136363636363635\n",
      "\n",
      "flower kill\n",
      "0.6363636363636365\n",
      "\n",
      "floer floer\n",
      "1.0\n",
      "\n",
      "floer floder\n",
      "0.9166666666666666\n",
      "\n",
      "floer man\n",
      "0.6181818181818182\n",
      "\n",
      "floer kill\n",
      "0.6636363636363637\n",
      "\n",
      "floder floder\n",
      "1.0\n",
      "\n",
      "floder man\n",
      "0.6136363636363635\n",
      "\n",
      "floder kill\n",
      "0.6363636363636365\n",
      "\n",
      "man man\n",
      "1.0\n",
      "\n",
      "man kill\n",
      "0.5340909090909091\n",
      "\n",
      "kill kill\n",
      "1.0\n",
      "\n"
     ]
    }
   ],
   "source": [
    "words = [\"flower\", \"floer\", \"floder\", \"man\", \"kill\"]\n",
    "for i in words:\n",
    "    for j in words[words.index(i):]:\n",
    "        print(i, j)\n",
    "        print(LD.similarity(i, j, \"manhattan\"))\n",
    "        print()"
   ]
  },
  {
   "cell_type": "code",
   "execution_count": 10,
   "metadata": {},
   "outputs": [],
   "source": [
    "cars_df = pd.read_csv(\"datasets\\cars_updated.csv\")"
   ]
  },
  {
   "cell_type": "code",
   "execution_count": 11,
   "metadata": {},
   "outputs": [],
   "source": [
    "cars_makes = cars_df[\"make\"].unique()"
   ]
  },
  {
   "cell_type": "code",
   "execution_count": 12,
   "metadata": {},
   "outputs": [],
   "source": [
    "for i in range(len(cars_makes)):\n",
    "    cars_makes[i] = cars_makes[i].lower()\n",
    "    cars_makes[i] = re.sub(r'[^\\w]', '', cars_makes[i])"
   ]
  },
  {
   "cell_type": "code",
   "execution_count": 13,
   "metadata": {},
   "outputs": [
    {
     "data": {
      "text/plain": [
       "array(['audi', 'acura', 'bmw', 'chevrolet', 'nissan', 'volvo', 'bentley',\n",
       "       'toyota', 'honda', 'ford', 'rollsroyce', 'volkswagen', 'maybach',\n",
       "       'lamborghini', 'lexus', 'hyundai', 'mercedes', 'bmwmotorrad',\n",
       "       'kia', 'amg', 'mazda', 'mercedesbenz', 'mercedesamg', 'mitsubishi',\n",
       "       'cadillac', 'infiniti', 'dodge', 'lincoln', 'gmc', 'porsche',\n",
       "       'jeep', 'subaru', 'buick', 'suzuki', 'saab', 'astonmartin',\n",
       "       'grandcherokee', 'landrover', 'chrysler', 'ferrari', 'scion',\n",
       "       'mini', 'jaguar', 'chryslergroupllc', 'lotus', 'maserati',\n",
       "       'mercury'], dtype=object)"
      ]
     },
     "execution_count": 13,
     "metadata": {},
     "output_type": "execute_result"
    }
   ],
   "source": [
    "cars_makes"
   ]
  },
  {
   "cell_type": "code",
   "execution_count": 14,
   "metadata": {},
   "outputs": [],
   "source": [
    "car = \"ausi\""
   ]
  },
  {
   "cell_type": "code",
   "execution_count": 15,
   "metadata": {
    "scrolled": true
   },
   "outputs": [
    {
     "data": {
      "text/plain": [
       "array([0.97727273, 0.7       , 0.67045455, 0.64141414, 0.66666667,\n",
       "       0.71818182, 0.66883117, 0.63636364, 0.60909091, 0.68181818,\n",
       "       0.63636364, 0.61818182, 0.72077922, 0.64049587, 0.66363636,\n",
       "       0.70779221, 0.61363636, 0.60743802, 0.67045455, 0.73863636,\n",
       "       0.59090909, 0.59090909, 0.59917355, 0.69090909, 0.64772727,\n",
       "       0.65909091, 0.73636364, 0.62987013, 0.67045455, 0.59090909,\n",
       "       0.68181818, 0.78787879, 0.75454545, 0.78787879, 0.68181818,\n",
       "       0.65702479, 0.61888112, 0.67171717, 0.68181818, 0.69480519,\n",
       "       0.64545455, 0.72727273, 0.75757576, 0.59659091, 0.62727273,\n",
       "       0.70454545, 0.68181818])"
      ]
     },
     "execution_count": 15,
     "metadata": {},
     "output_type": "execute_result"
    }
   ],
   "source": [
    "cars_sim = np.array([LD.similarity(car, i, \"manhattan\") for i in cars_makes])\n",
    "cars_sim"
   ]
  },
  {
   "cell_type": "code",
   "execution_count": 16,
   "metadata": {},
   "outputs": [
    {
     "data": {
      "text/plain": [
       "'audi'"
      ]
     },
     "execution_count": 16,
     "metadata": {},
     "output_type": "execute_result"
    }
   ],
   "source": [
    "cars_makes[cars_sim.argmax()]"
   ]
  },
  {
   "cell_type": "code",
   "execution_count": 18,
   "metadata": {},
   "outputs": [
    {
     "data": {
      "text/plain": [
       "0.9772727272727273"
      ]
     },
     "execution_count": 18,
     "metadata": {},
     "output_type": "execute_result"
    }
   ],
   "source": [
    "cars_sim.max()"
   ]
  },
  {
   "cell_type": "code",
   "execution_count": 21,
   "metadata": {},
   "outputs": [
    {
     "data": {
      "text/plain": [
       "12"
      ]
     },
     "execution_count": 21,
     "metadata": {},
     "output_type": "execute_result"
    }
   ],
   "source": [
    "(cars_sim > 0.7).sum()"
   ]
  },
  {
   "cell_type": "code",
   "execution_count": 16,
   "metadata": {},
   "outputs": [
    {
     "data": {
      "text/plain": [
       "array(['audi', 'subaru', 'suzuki', 'jaguar', 'buick', 'amg', 'dodge',\n",
       "       'mini', 'maybach', 'volvo', 'hyundai', 'maserati', 'acura',\n",
       "       'ferrari', 'mitsubishi', 'chrysler', 'jeep', 'ford', 'mercury',\n",
       "       'saab', 'landrover', 'bmw', 'kia', 'gmc', 'bentley', 'nissan',\n",
       "       'lexus', 'infiniti', 'astonmartin', 'cadillac', 'scion',\n",
       "       'chevrolet', 'lamborghini', 'toyota', 'rollsroyce', 'lincoln',\n",
       "       'lotus', 'grandcherokee', 'volkswagen', 'mercedes', 'honda',\n",
       "       'bmwmotorrad', 'mercedesamg', 'chryslergroupllc', 'mercedesbenz',\n",
       "       'porsche', 'mazda'], dtype=object)"
      ]
     },
     "execution_count": 16,
     "metadata": {},
     "output_type": "execute_result"
    }
   ],
   "source": [
    "cars_makes[cars_sim.argsort()[::-1]]"
   ]
  },
  {
   "cell_type": "code",
   "execution_count": null,
   "metadata": {},
   "outputs": [],
   "source": []
  }
 ],
 "metadata": {
  "kernelspec": {
   "display_name": "Python 3",
   "language": "python",
   "name": "python3"
  },
  "language_info": {
   "codemirror_mode": {
    "name": "ipython",
    "version": 3
   },
   "file_extension": ".py",
   "mimetype": "text/x-python",
   "name": "python",
   "nbconvert_exporter": "python",
   "pygments_lexer": "ipython3",
   "version": "3.7.5"
  }
 },
 "nbformat": 4,
 "nbformat_minor": 4
}
